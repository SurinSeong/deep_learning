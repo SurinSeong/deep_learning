{
  "nbformat": 4,
  "nbformat_minor": 0,
  "metadata": {
    "colab": {
      "provenance": [],
      "authorship_tag": "ABX9TyO8+OxqGHiKNZ7Q/W/MgqJ+"
    },
    "kernelspec": {
      "name": "python3",
      "display_name": "Python 3"
    },
    "language_info": {
      "name": "python"
    }
  },
  "cells": [
    {
      "cell_type": "code",
      "source": [
        "# 필요한 라이브러리 로드\n",
        "from tensorflow.keras.models import Sequential\n",
        "from tensorflow.keras.layers import Dense\n",
        "\n",
        "import numpy as np"
      ],
      "metadata": {
        "id": "u1doDh1r-2f_"
      },
      "execution_count": 1,
      "outputs": []
    },
    {
      "cell_type": "code",
      "source": [
        "## 데이터 수집\n",
        "!git clone https://github.com/taehojo/data.git"
      ],
      "metadata": {
        "colab": {
          "base_uri": "https://localhost:8080/"
        },
        "id": "OhN92dbU_GsU",
        "outputId": "883f0bd6-1734-4862-b056-7130c79f35af"
      },
      "execution_count": 2,
      "outputs": [
        {
          "output_type": "stream",
          "name": "stdout",
          "text": [
            "Cloning into 'data'...\n",
            "remote: Enumerating objects: 29, done.\u001b[K\n",
            "remote: Counting objects: 100% (29/29), done.\u001b[K\n",
            "remote: Compressing objects: 100% (26/26), done.\u001b[K\n",
            "remote: Total 29 (delta 6), reused 19 (delta 2), pack-reused 0\u001b[K\n",
            "Receiving objects: 100% (29/29), 467.72 KiB | 10.17 MiB/s, done.\n",
            "Resolving deltas: 100% (6/6), done.\n"
          ]
        }
      ]
    },
    {
      "cell_type": "code",
      "source": [
        "# 수술 환자 데이터 불러오기\n",
        "dataset = np.loadtxt('/content/data/ThoraricSurgery3.csv', delimiter=',')\n",
        "\n",
        "# 환자의 진찰 기록\n",
        "X = dataset[:, 0:16]\n",
        "# 수술 1년 후 사망/생존 여부 지정\n",
        "y = dataset[:, 16]"
      ],
      "metadata": {
        "id": "LAyiEzMx_j7U"
      },
      "execution_count": 3,
      "outputs": []
    },
    {
      "cell_type": "markdown",
      "source": [
        "## 모델 정의\n",
        "* keras에서는 입력층을 따로 만들지 않음\n",
        "    * 첫 번째층에 input_dim을 적어줌으로써 첫 번재 Dense가 은닉층 + 입력층의 역할을 한다."
      ],
      "metadata": {
        "id": "QV9cGHOa-0kL"
      }
    },
    {
      "cell_type": "code",
      "execution_count": 4,
      "metadata": {
        "colab": {
          "base_uri": "https://localhost:8080/"
        },
        "id": "GGyLOJBJ-jqh",
        "outputId": "05c6187b-19d1-423e-b92b-a9ba2bffc36f"
      },
      "outputs": [
        {
          "output_type": "stream",
          "name": "stderr",
          "text": [
            "/usr/local/lib/python3.10/dist-packages/keras/src/layers/core/dense.py:87: UserWarning: Do not pass an `input_shape`/`input_dim` argument to a layer. When using Sequential models, prefer using an `Input(shape)` object as the first layer in the model instead.\n",
            "  super().__init__(activity_regularizer=activity_regularizer, **kwargs)\n"
          ]
        }
      ],
      "source": [
        "# 모델 구축\n",
        "model = Sequential()\n",
        "model.add(Dense(30, input_dim=16, activation='relu')) # 은닉층 - 노드를 30개를 만들어주겠다. 입력층 - input 데이터에서 몇개의 값을 가져오겠다.\n",
        "model.add(Dense(1, activation='sigmoid')) # 출력층"
      ]
    },
    {
      "cell_type": "code",
      "source": [
        "# 딥러닝 모델 실행\n",
        "model.compile(loss='binary_crossentropy', optimizer='adam', metrics=['accuracy']) # 생존 예측은 둘 중 하나 ==> 시그모이드\n",
        "history = model.fit(X, y, epochs=5, batch_size=16) # batch_size : 샘플을 한번에 몇개씩 처리할까"
      ],
      "metadata": {
        "colab": {
          "base_uri": "https://localhost:8080/"
        },
        "id": "xFGH9XBeBcqM",
        "outputId": "c9777cf9-c9d6-4f8b-d287-ee992085020c"
      },
      "execution_count": 6,
      "outputs": [
        {
          "output_type": "stream",
          "name": "stdout",
          "text": [
            "Epoch 1/5\n",
            "\u001b[1m30/30\u001b[0m \u001b[32m━━━━━━━━━━━━━━━━━━━━\u001b[0m\u001b[37m\u001b[0m \u001b[1m1s\u001b[0m 2ms/step - accuracy: 0.8509 - loss: 0.4447\n",
            "Epoch 2/5\n",
            "\u001b[1m30/30\u001b[0m \u001b[32m━━━━━━━━━━━━━━━━━━━━\u001b[0m\u001b[37m\u001b[0m \u001b[1m0s\u001b[0m 2ms/step - accuracy: 0.8454 - loss: 0.4388\n",
            "Epoch 3/5\n",
            "\u001b[1m30/30\u001b[0m \u001b[32m━━━━━━━━━━━━━━━━━━━━\u001b[0m\u001b[37m\u001b[0m \u001b[1m0s\u001b[0m 2ms/step - accuracy: 0.8650 - loss: 0.3926 \n",
            "Epoch 4/5\n",
            "\u001b[1m30/30\u001b[0m \u001b[32m━━━━━━━━━━━━━━━━━━━━\u001b[0m\u001b[37m\u001b[0m \u001b[1m0s\u001b[0m 2ms/step - accuracy: 0.8592 - loss: 0.4497 \n",
            "Epoch 5/5\n",
            "\u001b[1m30/30\u001b[0m \u001b[32m━━━━━━━━━━━━━━━━━━━━\u001b[0m\u001b[37m\u001b[0m \u001b[1m0s\u001b[0m 2ms/step - accuracy: 0.8445 - loss: 0.4499 \n"
          ]
        }
      ]
    },
    {
      "cell_type": "code",
      "source": [
        "history.history"
      ],
      "metadata": {
        "colab": {
          "base_uri": "https://localhost:8080/"
        },
        "id": "KdMLyjpLCp6d",
        "outputId": "68bf0996-a7e9-4321-9c80-db7abc1e100f"
      },
      "execution_count": 8,
      "outputs": [
        {
          "output_type": "execute_result",
          "data": {
            "text/plain": [
              "{'accuracy': [0.8510638475418091,\n",
              "  0.8510638475418091,\n",
              "  0.8510638475418091,\n",
              "  0.8510638475418091,\n",
              "  0.848936140537262],\n",
              " 'loss': [0.44312500953674316,\n",
              "  0.42587634921073914,\n",
              "  0.42192915081977844,\n",
              "  0.4355286657810211,\n",
              "  0.44058069586753845]}"
            ]
          },
          "metadata": {},
          "execution_count": 8
        }
      ]
    }
  ]
}