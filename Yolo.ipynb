{
  "nbformat": 4,
  "nbformat_minor": 0,
  "metadata": {
    "colab": {
      "provenance": [],
      "authorship_tag": "ABX9TyOto52SWVRR4hh/feRh/Dvx",
      "include_colab_link": true
    },
    "kernelspec": {
      "name": "python3",
      "display_name": "Python 3"
    },
    "language_info": {
      "name": "python"
    }
  },
  "cells": [
    {
      "cell_type": "markdown",
      "metadata": {
        "id": "view-in-github",
        "colab_type": "text"
      },
      "source": [
        "<a href=\"https://colab.research.google.com/github/SurinSeong/deep_learning/blob/main/Yolo.ipynb\" target=\"_parent\"><img src=\"https://colab.research.google.com/assets/colab-badge.svg\" alt=\"Open In Colab\"/></a>"
      ]
    },
    {
      "cell_type": "markdown",
      "source": [
        "# 객체 탐지 (Object Detection)\n",
        "* 한 이미지에서 객체와 그 경계 상자(bounding box)를 탐지\n",
        "* 객체 탐지 알고리즘은 일반적으로 이미지를 입력으로 받고, bbox와 객체 클래스를 출력\n",
        "* bbox에 대해 그에 대응하는 예측 클래스와 클래스의 신뢰도(confidence)를 출력\n",
        "\n",
        "## 용어 설명\n",
        "* Bounding Box\n",
        "    * 이미지에서 하나의 객체 전체를 포함하는 가장 작은 직사각형\n",
        "*IOU (Intersection Over Union)\n",
        "    * 실측값(ground truth)와 모델이 예측한 값이 얼마나 겹치는지를 나타내는 지표\n",
        "    * 전체 영역에서 오버랩되는 부분이 어느정도 인지?\n",
        "        * IOU가 높을 수록 잘 예측한 모델이다.\n"
      ],
      "metadata": {
        "id": "0iipN9iu6uoF"
      }
    },
    {
      "cell_type": "code",
      "execution_count": 1,
      "metadata": {
        "id": "LPwxa4UX29DL"
      },
      "outputs": [],
      "source": [
        "# iou 계산하기\n",
        "def compute_iou(pred_box, gt_box):\n",
        "    xl = np.maximum(pred_box[0], gt_box[0])\n",
        "    y1 = np.maximum(pred_box[1], gt_box[1])\n",
        "    x2 = np.maximum(pred_box[2], gt_box[2])\n",
        "    y2 = np.maximum(pred_box[3], gt_box[3])\n",
        "\n",
        "    intersection = np.maximum(x2-x1, 0) * np.maximum(y2-y1, 0)\n",
        "    # 예측 box 영역 넓이\n",
        "    pred_box_area = (pred_box[2] - pred_box[0]) * (pred_box[3] - pred_box[1])\n",
        "    # 실제 box 영역 넓이\n",
        "    gt_box_area = (gt_box[2] - gt_box[0]) * (gt_box[3] - gt_box[1])\n",
        "\n",
        "    union = pred_box_area + gt_box_area - intersection\n",
        "\n",
        "    iou = intersection / union\n",
        "\n",
        "    return iou"
      ]
    },
    {
      "cell_type": "markdown",
      "source": [
        "## NMS (Non-Maximum)"
      ],
      "metadata": {
        "id": "nKUgO1o1AC1E"
      }
    },
    {
      "cell_type": "code",
      "source": [
        "import numpy as np\n",
        "\n",
        "def non_max_suppression_fast(boxes, overlap_thresh):\n",
        "    if len(boxes) == 0:\n",
        "        return []\n",
        "\n",
        "    if boxes.dtype.kind == 'i':\n",
        "        boxes = boxes.astype('float')\n",
        "\n",
        "    pick = []\n",
        "    x1 = boxes[:, 0]\n",
        "    y1 = boxes[:, 1]\n",
        "    x2 = boxes[:, 2]\n",
        "    y2 = boxes[:, 3]\n",
        "\n",
        "    area = (x2 - x1 + 1) * (y2 - y1 + 1)\n",
        "    idxs = np.argsort(y2)\n",
        "\n",
        "    while len(idxs) > 0:\n",
        "        last = len(idxs) - 1\n",
        "        i = idxs[last]\n",
        "        pick.append(i)\n",
        "\n",
        "        xx1 = np.maximum(x1[i], x1[idxs[:last]])\n",
        "        xx1 = np.maximum(x1[i], x1[idxs[:last]])\n",
        "        xx1 = np.maximum(x1[i], x1[idxs[:last]])\n",
        "        xx1 = np.maximum(x1[i], x1[idxs[:last]])"
      ],
      "metadata": {
        "id": "Cp5ccRSOAAfI"
      },
      "execution_count": null,
      "outputs": []
    }
  ]
}