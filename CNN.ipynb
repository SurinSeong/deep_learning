{
  "nbformat": 4,
  "nbformat_minor": 0,
  "metadata": {
    "colab": {
      "provenance": [],
      "gpuType": "T4",
      "authorship_tag": "ABX9TyMaxmaIxrT2cPoPgUiHxTE4"
    },
    "kernelspec": {
      "name": "python3",
      "display_name": "Python 3"
    },
    "language_info": {
      "name": "python"
    },
    "accelerator": "GPU"
  },
  "cells": [
    {
      "cell_type": "markdown",
      "source": [
        "1. 이미지를 인식하는 원리"
      ],
      "metadata": {
        "id": "xEIfDNrSV8_L"
      }
    },
    {
      "cell_type": "code",
      "execution_count": 1,
      "metadata": {
        "colab": {
          "base_uri": "https://localhost:8080/"
        },
        "id": "dLtIAPM7DJti",
        "outputId": "c7033209-8807-4983-faf4-5322aff71cde"
      },
      "outputs": [
        {
          "output_type": "stream",
          "name": "stdout",
          "text": [
            "Downloading data from https://storage.googleapis.com/tensorflow/tf-keras-datasets/mnist.npz\n",
            "\u001b[1m11490434/11490434\u001b[0m \u001b[32m━━━━━━━━━━━━━━━━━━━━\u001b[0m\u001b[37m\u001b[0m \u001b[1m1s\u001b[0m 0us/step\n",
            "학습셋 이미지 수 : 60000개\n",
            "테스트셋 이미지 수 : 10000개\n"
          ]
        }
      ],
      "source": [
        "# MNIST 데이터는 텐서플로의 케라스 API를 이용해 불러올 수 있음.\n",
        "from tensorflow.keras.datasets import mnist\n",
        "\n",
        "# 불러온 이미지 데이터 : X, 이미지에 0~9를 붙인 이름표 : y\n",
        "# 7만개 중 학습에 사용될 부분 : train (60000개), 테스트에 사용될 부분 : test (10000개)\n",
        "(X_train, y_train), (X_test, y_test) = mnist.load_data()\n",
        "print(f'학습셋 이미지 수 : {X_train.shape[0]}개')\n",
        "print(f'테스트셋 이미지 수 : {X_test.shape[0]}개')"
      ]
    },
    {
      "cell_type": "code",
      "source": [
        "# 불러온 이미지 중 한 개만 불러오기\n",
        "import matplotlib.pyplot as plt\n",
        "\n",
        "plt.imshow(X_train[0], cmap='Greys') # imshow() : 이미지 출력 / 첫 번째 이미지, 흑백으로\n",
        "plt.show()"
      ],
      "metadata": {
        "colab": {
          "base_uri": "https://localhost:8080/",
          "height": 430
        },
        "id": "uEZWvGdbXfXh",
        "outputId": "5f661847-4b85-4525-c774-1b75f213bf99"
      },
      "execution_count": 2,
      "outputs": [
        {
          "output_type": "display_data",
          "data": {
            "text/plain": [
              "<Figure size 640x480 with 1 Axes>"
            ],
            "image/png": "[encoded data removed]"
          },
          "metadata": {}
        }
      ]
    },
    {
      "cell_type": "markdown",
      "source": [
        "* 위의 이미지를 인식하는 원리\n",
        "    * 가로 28 X 세로 28 = 784개의 픽셀로 이루어져있음.\n",
        "    * 각 픽셀은 밝기 정도에 따라 **0부터 255까지** 등급을 매김\n",
        "\n",
        "* 이미지는 숫자의 집합으로 바뀌어서 학습셋으로 사용된다.\n",
        "* ==> 28 x 28 = 784개의 속성을 이용해 0-9의 클래스 중 하나를 맞추는 문제"
      ],
      "metadata": {
        "id": "Oz4d_QmzYXeo"
      }
    },
    {
      "cell_type": "code",
      "source": [
        "import sys\n",
        "\n",
        "for x in X_train[0]:\n",
        "    for i in x:\n",
        "        sys.stdout.write('%-3s' %i)\n",
        "    sys.stdout.write('\\n')"
      ],
      "metadata": {
        "colab": {
          "base_uri": "https://localhost:8080/"
        },
        "id": "NyCZ1qpmYSjC",
        "outputId": "aba3455b-f81c-4f2e-89bc-71506c831d08"
      },
      "execution_count": 4,
      "outputs": [
        {
          "output_type": "stream",
          "name": "stdout",
          "text": [
            "0  0  0  0  0  0  0  0  0  0  0  0  0  0  0  0  0  0  0  0  0  0  0  0  0  0  0  0  \n",
            "0  0  0  0  0  0  0  0  0  0  0  0  0  0  0  0  0  0  0  0  0  0  0  0  0  0  0  0  \n",
            "0  0  0  0  0  0  0  0  0  0  0  0  0  0  0  0  0  0  0  0  0  0  0  0  0  0  0  0  \n",
            "0  0  0  0  0  0  0  0  0  0  0  0  0  0  0  0  0  0  0  0  0  0  0  0  0  0  0  0  \n",
            "0  0  0  0  0  0  0  0  0  0  0  0  0  0  0  0  0  0  0  0  0  0  0  0  0  0  0  0  \n",
            "0  0  0  0  0  0  0  0  0  0  0  0  3  18 18 18 12613617526 1662552471270  0  0  0  \n",
            "0  0  0  0  0  0  0  0  30 36 94 15417025325325325325322517225324219564 0  0  0  0  \n",
            "0  0  0  0  0  0  0  49 23825325325325325325325325325193 82 82 56 39 0  0  0  0  0  \n",
            "0  0  0  0  0  0  0  18 2192532532532532531981822472410  0  0  0  0  0  0  0  0  0  \n",
            "0  0  0  0  0  0  0  0  80 15610725325320511 0  43 1540  0  0  0  0  0  0  0  0  0  \n",
            "0  0  0  0  0  0  0  0  0  14 1  15425390 0  0  0  0  0  0  0  0  0  0  0  0  0  0  \n",
            "0  0  0  0  0  0  0  0  0  0  0  1392531902  0  0  0  0  0  0  0  0  0  0  0  0  0  \n",
            "0  0  0  0  0  0  0  0  0  0  0  11 19025370 0  0  0  0  0  0  0  0  0  0  0  0  0  \n",
            "0  0  0  0  0  0  0  0  0  0  0  0  35 2412251601081  0  0  0  0  0  0  0  0  0  0  \n",
            "0  0  0  0  0  0  0  0  0  0  0  0  0  81 24025325311925 0  0  0  0  0  0  0  0  0  \n",
            "0  0  0  0  0  0  0  0  0  0  0  0  0  0  45 18625325315027 0  0  0  0  0  0  0  0  \n",
            "0  0  0  0  0  0  0  0  0  0  0  0  0  0  0  16 93 2522531870  0  0  0  0  0  0  0  \n",
            "0  0  0  0  0  0  0  0  0  0  0  0  0  0  0  0  0  24925324964 0  0  0  0  0  0  0  \n",
            "0  0  0  0  0  0  0  0  0  0  0  0  0  0  46 1301832532532072  0  0  0  0  0  0  0  \n",
            "0  0  0  0  0  0  0  0  0  0  0  0  39 1482292532532532501820  0  0  0  0  0  0  0  \n",
            "0  0  0  0  0  0  0  0  0  0  24 11422125325325325320178 0  0  0  0  0  0  0  0  0  \n",
            "0  0  0  0  0  0  0  0  23 66 21325325325325319881 2  0  0  0  0  0  0  0  0  0  0  \n",
            "0  0  0  0  0  0  18 17121925325325325319580 9  0  0  0  0  0  0  0  0  0  0  0  0  \n",
            "0  0  0  0  55 17222625325325325324413311 0  0  0  0  0  0  0  0  0  0  0  0  0  0  \n",
            "0  0  0  0  13625325325321213513216 0  0  0  0  0  0  0  0  0  0  0  0  0  0  0  0  \n",
            "0  0  0  0  0  0  0  0  0  0  0  0  0  0  0  0  0  0  0  0  0  0  0  0  0  0  0  0  \n",
            "0  0  0  0  0  0  0  0  0  0  0  0  0  0  0  0  0  0  0  0  0  0  0  0  0  0  0  0  \n",
            "0  0  0  0  0  0  0  0  0  0  0  0  0  0  0  0  0  0  0  0  0  0  0  0  0  0  0  0  \n"
          ]
        }
      ]
    },
    {
      "cell_type": "code",
      "source": [
        "# 28 x 28 배열을 784개의 1차원 배열로 바꿔주어야 한다. --> reshape()\n",
        "# reshape(총 샘플 수, 1차원 속성의 개수)\n",
        "X_train = X_train.reshape(X_train.shape[0], 784)"
      ],
      "metadata": {
        "id": "2QKUepGdY7at"
      },
      "execution_count": 5,
      "outputs": []
    },
    {
      "cell_type": "markdown",
      "source": [
        "* keras는 데이터를 0~1 값으로 변환 후 구동할 때 최적의 성능을 보인다.\n",
        "* ==> 0-255 값으로 이루어진 값을 0-1 사이의 값으로 바꾸어야 한다\n",
        "* ==> 각 값을 255로 나눈다. (정규화)"
      ],
      "metadata": {
        "id": "h3aefuhcaXIS"
      }
    },
    {
      "cell_type": "code",
      "source": [
        "# astype() 함수를 이용해 실수형으로 바꾼 후 255로 나눈다.\n",
        "X_train = X_train.astype('float64')\n",
        "X_train = X_train / 255"
      ],
      "metadata": {
        "id": "bg_Uzrg-aFIC"
      },
      "execution_count": 6,
      "outputs": []
    },
    {
      "cell_type": "code",
      "source": [
        "# X_test에도 적용\n",
        "X_test = X_test.reshape(X_test.shape[0], 784).astype('float64') / 255"
      ],
      "metadata": {
        "id": "Ey1GnMPxayMw"
      },
      "execution_count": 7,
      "outputs": []
    },
    {
      "cell_type": "code",
      "source": [
        "# 숫자 이미지의 이름 확인\n",
        "print(f'class : {y_train[0]}')"
      ],
      "metadata": {
        "colab": {
          "base_uri": "https://localhost:8080/"
        },
        "id": "sX4hsZykbFcY",
        "outputId": "da5138e8-3cf5-456f-98fc-23b0c60748fa"
      },
      "execution_count": 8,
      "outputs": [
        {
          "output_type": "stream",
          "name": "stdout",
          "text": [
            "class : 5\n"
          ]
        }
      ]
    },
    {
      "cell_type": "markdown",
      "source": [
        "* 딥러닝의 분류 문제를 해결하기 위해서는 **원-핫인코딩**방식을 적용해야 한다.\n",
        "* 0~9의 정수형 값 --> 0 or 1로만 이루어진 벡터"
      ],
      "metadata": {
        "id": "J-A6BE5HbSgB"
      }
    },
    {
      "cell_type": "code",
      "source": [
        "# to_categorical()\n",
        "from tensorflow.keras.utils import to_categorical\n",
        "\n",
        "y_train = to_categorical(y_train, 10)\n",
        "y_test = to_categorical(y_test, 10)"
      ],
      "metadata": {
        "id": "AvruJ6wxbfNU"
      },
      "execution_count": 12,
      "outputs": []
    },
    {
      "cell_type": "code",
      "source": [
        "print(y_train[0])"
      ],
      "metadata": {
        "colab": {
          "base_uri": "https://localhost:8080/"
        },
        "id": "9wxLWKISb7-R",
        "outputId": "00995469-b707-4c0a-b882-696d5ed0f455"
      },
      "execution_count": 13,
      "outputs": [
        {
          "output_type": "stream",
          "name": "stdout",
          "text": [
            "[0. 0. 0. 0. 0. 1. 0. 0. 0. 0.]\n"
          ]
        }
      ]
    },
    {
      "cell_type": "code",
      "source": [
        "from tensorflow.keras.models import Sequential\n",
        "from tensorflow.keras.layers import Dense\n",
        "from tensorflow.keras.callbacks import ModelCheckpoint, EarlyStopping\n",
        "from tensorflow.keras.datasets import mnist\n",
        "from tensorflow.keras.utils import to_categorical\n",
        "\n",
        "# 데이터 구축\n",
        "(X_train, y_train), (X_test, y_test) = mnist.load_data()\n",
        "\n",
        "# 차원 변환 후, 테스트 셋과 학습 셋으로 나누기\n",
        "X_train = X_train.reshape(X_train.shape[0], 784).astype('float32') / 255\n",
        "X_test = X_test.reshape(X_test.shape[0], 784).astype('float32') / 255\n",
        "\n",
        "y_train = to_categorical(y_train, 10)\n",
        "y_test = to_categorical(y_test, 10)\n",
        "\n",
        "# 모델 구축\n",
        "# 784개의 속성, 10개의 클래스\n",
        "model = Sequential()\n",
        "model.add(Dense(512, input_dim=784, activation='relu'))\n",
        "model.add(Dense(10, activation='softmax'))\n",
        "\n",
        "# 모델 실행 환경\n",
        "model.compile(loss='categorical_crossentropy', optimizer='adam', metrics=['accuracy'])\n",
        "\n",
        "# 모델 실행하기 전 성과 저장하고, 최적화 단계에서는 학습을 자동 중단하게 한다.\n",
        "# 모델 최적화를 위한 설정 구간\n",
        "modelpath = './MNIST_MLP.keras'\n",
        "checkpointer = ModelCheckpoint(filepath=modelpath, monitor='val_loss', verbose=1, save_best_only=True)\n",
        "early_stopping_callback = EarlyStopping(monitor='val_loss', patience=10) # 10번 이상 모델의 성능이 향상되지 않으면 자동으로 학습을 중단한다.\n",
        "\n",
        "# 모델 실행\n",
        "history = model.fit(X_train, y_train, validation_split=0.25, epochs=30, batch_size=200, verbose=0, callbacks=[early_stopping_callback, checkpointer])\n",
        "\n",
        "# 테스트 정확도 출력\n",
        "print('\\n Test Accuracy : {:.4f}'.format(model.evaluate(X_test, y_test)[1]))"
      ],
      "metadata": {
        "colab": {
          "base_uri": "https://localhost:8080/"
        },
        "id": "ho3NFTrcemGT",
        "outputId": "03714c6b-7a30-4b4e-e685-5652e2819557"
      },
      "execution_count": 15,
      "outputs": [
        {
          "output_type": "stream",
          "name": "stdout",
          "text": [
            "\n",
            "Epoch 1: val_loss improved from inf to 0.20276, saving model to ./MNIST_MLP.keras\n",
            "\n",
            "Epoch 2: val_loss improved from 0.20276 to 0.13334, saving model to ./MNIST_MLP.keras\n",
            "\n",
            "Epoch 3: val_loss improved from 0.13334 to 0.10930, saving model to ./MNIST_MLP.keras\n",
            "\n",
            "Epoch 4: val_loss improved from 0.10930 to 0.10764, saving model to ./MNIST_MLP.keras\n",
            "\n",
            "Epoch 5: val_loss improved from 0.10764 to 0.09217, saving model to ./MNIST_MLP.keras\n",
            "\n",
            "Epoch 6: val_loss improved from 0.09217 to 0.08739, saving model to ./MNIST_MLP.keras\n",
            "\n",
            "Epoch 7: val_loss did not improve from 0.08739\n",
            "\n",
            "Epoch 8: val_loss improved from 0.08739 to 0.08097, saving model to ./MNIST_MLP.keras\n",
            "\n",
            "Epoch 9: val_loss did not improve from 0.08097\n",
            "\n",
            "Epoch 10: val_loss did not improve from 0.08097\n",
            "\n",
            "Epoch 11: val_loss improved from 0.08097 to 0.07981, saving model to ./MNIST_MLP.keras\n",
            "\n",
            "Epoch 12: val_loss improved from 0.07981 to 0.07831, saving model to ./MNIST_MLP.keras\n",
            "\n",
            "Epoch 13: val_loss did not improve from 0.07831\n",
            "\n",
            "Epoch 14: val_loss did not improve from 0.07831\n",
            "\n",
            "Epoch 15: val_loss did not improve from 0.07831\n",
            "\n",
            "Epoch 16: val_loss did not improve from 0.07831\n",
            "\n",
            "Epoch 17: val_loss did not improve from 0.07831\n",
            "\n",
            "Epoch 18: val_loss did not improve from 0.07831\n",
            "\n",
            "Epoch 19: val_loss did not improve from 0.07831\n",
            "\n",
            "Epoch 20: val_loss did not improve from 0.07831\n",
            "\n",
            "Epoch 21: val_loss did not improve from 0.07831\n",
            "\n",
            "Epoch 22: val_loss did not improve from 0.07831\n",
            "\u001b[1m313/313\u001b[0m \u001b[32m━━━━━━━━━━━━━━━━━━━━\u001b[0m\u001b[37m\u001b[0m \u001b[1m1s\u001b[0m 3ms/step - accuracy: 0.9797 - loss: 0.0818\n",
            "\n",
            " Test Accuracy : 0.9818\n"
          ]
        }
      ]
    },
    {
      "cell_type": "code",
      "source": [
        "# 진행결과 그래프로 표현하기\n",
        "# 학습셋의 오차를 그래프로 표현\n",
        "import matplotlib.pyplot as plt\n",
        "import numpy as np\n",
        "\n",
        "y_vloss = history.history['val_loss']\n",
        "\n",
        "# 학습셋의 오차\n",
        "y_loss = history.history['loss']\n",
        "\n",
        "# 그래프 표현\n",
        "x_len = np.arange(len(y_loss))\n",
        "plt.plot(x_len, y_vloss, marker='.', c='red', label='Testset_loss')\n",
        "plt.plot(x_len, y_loss, marker='.', c='blue', label='Trainset_loss')\n",
        "\n",
        "# 그래프에 그리드 주고 레이블 표시하기\n",
        "plt.legend(loc='upper right')\n",
        "plt.grid()\n",
        "plt.xlabel('epoch')\n",
        "plt.ylabel('loss')\n",
        "plt.show()"
      ],
      "metadata": {
        "colab": {
          "base_uri": "https://localhost:8080/",
          "height": 449
        },
        "id": "0Dyw0_aigja7",
        "outputId": "16e55b1a-5e94-4e61-d311-20a125cc418e"
      },
      "execution_count": 17,
      "outputs": [
        {
          "output_type": "display_data",
          "data": {
            "text/plain": [
              "<Figure size 640x480 with 1 Axes>"
            ],
            "image/png": "[encoded data removed]"
          },
          "metadata": {}
        }
      ]
    },
    {
      "cell_type": "markdown",
      "source": [
        "# CNN\n",
        "* 입력된 이미지에서 다시 한 번 특징을 추출하기 위해 커널(슬라이딩 윈도)을 도입하는 기법\n",
        "    * 커널이 이미지를 한 칸씩 옮겨서 모두 적용해서 나온 층을 **컨볼루션 층**이라고 한다.\n",
        "1. 컨볼루션 층\n",
        "* 입력 데이터가 가진 특징을 대략적으로 추출해서 학습을 진행할 수 있음.\n",
        "    * 커널을 여러 개 만들 경우, 여러 개의 컨볼루션 층이 만들어짐. (커널 하나 당, 컨볼루션 층 하나)\n",
        "* Conv2D() : 컨볼루션층 추가\n",
        "\n",
        "2. 맥스풀링, 드롭아웃, 플래튼\n",
        "* 풀링\n",
        "    * (1) 맥스풀링 : 정해진 구역 안에서 최댓값을 뽑아냄 ==> 가장 두드러진 특징을 추출함.\n",
        "    * (2) 평균풀링 : 정해진 구역 안에서 평균값을 뽑아냄 ==> 전체적인 형태를 알 수 있음.\n",
        "* 드롭아웃 : 은닉층에 배치된 노드 중 일부를 임의로 꺼주는 것\n",
        "    * 학습 데이터에 지나치게 치우쳐져서 학습되는 과적합을 막아준다.\n",
        "* 플래튼\n",
        "    * 컨볼루션층, 맥스풀링은 주어진 이미지를 2차원 배열인 채로 다룬다. (특징 추출을 위해)\n",
        "    * ==> 1차원으로 바꿔주어야 함."
      ],
      "metadata": {
        "id": "Hg80Z66Qt3zd"
      }
    },
    {
      "cell_type": "code",
      "source": [],
      "metadata": {
        "id": "OEwRaFU12mM4"
      },
      "execution_count": null,
      "outputs": []
    }
  ]
}