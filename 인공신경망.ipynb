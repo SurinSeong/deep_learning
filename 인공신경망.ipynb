{
  "nbformat": 4,
  "nbformat_minor": 0,
  "metadata": {
    "colab": {
      "provenance": [],
      "authorship_tag": "ABX9TyMMQ64gIp4Cbshsu3sMumK7"
    },
    "kernelspec": {
      "name": "python3",
      "display_name": "Python 3"
    },
    "language_info": {
      "name": "python"
    }
  },
  "cells": [
    {
      "cell_type": "markdown",
      "source": [
        "# 퍼셉트론\n",
        "* 입력값을 여러 개 받아 출력을 만드는데, 이때 입력값에 가중치를 조절할 수 있게 만들어 최초로 학습을 하게 했다.\n",
        "* 가중합 : 입력값과 가중치를 모두 곱한 후 편차를 더한 값\n",
        "\n",
        "# 다층 퍼셉트론\n",
        "* 퍼센트론 두개를 한번에 계산하자 ! ==> **hidden layer**의 등장\n",
        "* 원리\n",
        "    1. x1, x2를 두 연산으로 보낸다.\n",
        "    2. 첫 번째 연산에서는 NAND 처리를 한다.\n",
        "    3. 두 번째 연산에는 OR 처리를 한다.\n",
        "    4. 연산처리된 결과값을 가지고 AND 처리를 하면 우리가 원하는 출력값을 만들 수 있다."
      ],
      "metadata": {
        "id": "d17fLtKly6Vb"
      }
    },
    {
      "cell_type": "markdown",
      "source": [
        "## 코딩으로 XOR 문제 해결하기"
      ],
      "metadata": {
        "id": "0mD7Ldz82jP-"
      }
    },
    {
      "cell_type": "code",
      "execution_count": 1,
      "metadata": {
        "id": "ZcW_zGDBuU_y"
      },
      "outputs": [],
      "source": [
        "# 필요한 라이브러리 로드\n",
        "import numpy as np"
      ]
    },
    {
      "cell_type": "code",
      "source": [
        "w11 = np.array([-2, -2])\n",
        "w12 = np.array([2, 2])\n",
        "w2 = np.array([1, 1])\n",
        "\n",
        "b1 = 3\n",
        "b2 = -1\n",
        "b3 = -1"
      ],
      "metadata": {
        "id": "SXgQ9PI22opR"
      },
      "execution_count": 2,
      "outputs": []
    },
    {
      "cell_type": "code",
      "source": [
        "# 퍼셉트론 함수 만들기\n",
        "def MLP(x, w, b):\n",
        "    y = np.sum(w*x) + b\n",
        "\n",
        "    if y <= 0:\n",
        "        return 0\n",
        "    else:\n",
        "        return 1"
      ],
      "metadata": {
        "id": "mJzEiWU-25Dq"
      },
      "execution_count": 3,
      "outputs": []
    },
    {
      "cell_type": "code",
      "source": [
        "# NAND 게이트 (은닉층)\n",
        "def NAND(x1, x2):\n",
        "    return MLP(np.array([x1, x2]), w11, b1)\n",
        "# OR 게이트 (은닉층)\n",
        "def OR(x1, x2):\n",
        "    return MLP(np.array([x1, x2]), w12, b2)\n",
        "# AND 게이트\n",
        "def AND(x1, x2):\n",
        "    return MLP(np.array([x1, x2]), w2, b3)\n",
        "# XOR 게이트\n",
        "def XOR(x1, x2):\n",
        "    return AND(NAND(x1, x2), OR(x1, x2))"
      ],
      "metadata": {
        "id": "X60qkOwW3C7N"
      },
      "execution_count": 4,
      "outputs": []
    },
    {
      "cell_type": "code",
      "source": [
        "# x1, x2를 번갈아 대입해가며 최종 값을 출력하기\n",
        "for x in [(0, 0), (1, 0), (0, 1), (1, 1)]:\n",
        "    y = XOR(x[0], x[1])\n",
        "    print('입력값 : ' + str(x) + '출력값 : ' + str(y))"
      ],
      "metadata": {
        "colab": {
          "base_uri": "https://localhost:8080/"
        },
        "id": "9Y4azIce4mF6",
        "outputId": "290b707b-d0dc-47c4-a7ea-c47f421c9528"
      },
      "execution_count": 5,
      "outputs": [
        {
          "output_type": "stream",
          "name": "stdout",
          "text": [
            "입력값 : (0, 0)출력값 : 0\n",
            "입력값 : (1, 0)출력값 : 1\n",
            "입력값 : (0, 1)출력값 : 1\n",
            "입력값 : (1, 1)출력값 : 0\n"
          ]
        }
      ]
    },
    {
      "cell_type": "markdown",
      "source": [
        "1. 오차역전파\n",
        "* 아직 남은 문제 : 은닉층에 포함된 가중치를 업데이트할 방법\n",
        "==> 해결 : **오차역전파**\n",
        "\n",
        "2. 활성화 함수\n",
        "* 역전파를 진행할수독 점점 기울기가 소실된다는 문제가 발생한다.\n",
        "    * --> 출력층에서 시작된 가중치 업데이트가 처음 층가지 전달되지 않음.\n",
        "* ==> 'relu' 함수로 해결 (이 외에도 여러 활성화 함수가 존재함.)\n",
        "\n",
        "3. 고급 경사 하강법\n",
        "* 확률적 경사 하강법\n",
        "    * 경사 하강법은 한번 업데이트할 때마다 전체 데이터를 미분\n",
        "    * 전체 데이터를 사용하는 것이 아니라, 랜덤하게 추출한 일부 데이터만 사용\n",
        "* 모멘텀 확률적 경사 하강법 : 오차를 수정하기 전 바로 앞 수정값과 방향을 참고\n",
        "* adam(아담)\n",
        "    * 아다그라드의 보폭 조절하는 방법 + 모멘텀의 방향을 조절하는 방법"
      ],
      "metadata": {
        "id": "1z-ICoC96UQu"
      }
    },
    {
      "cell_type": "code",
      "source": [],
      "metadata": {
        "id": "-fmZHjop5Flu"
      },
      "execution_count": null,
      "outputs": []
    }
  ]
}